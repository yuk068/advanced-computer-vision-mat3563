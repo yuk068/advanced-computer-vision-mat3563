{
 "cells": [
  {
   "cell_type": "code",
   "execution_count": null,
   "id": "0cca0f4a-33d4-4073-b74c-d4444d7ec0fc",
   "metadata": {},
   "outputs": [],
   "source": []
  }
 ],
 "metadata": {
  "kernelspec": {
   "display_name": "Python 3.11 (acv_torch)",
   "language": "python",
   "name": "acv_torch"
  },
  "language_info": {
   "codemirror_mode": {
    "name": "ipython",
    "version": 3
   },
   "file_extension": ".py",
   "mimetype": "text/x-python",
   "name": "python",
   "nbconvert_exporter": "python",
   "pygments_lexer": "ipython3",
   "version": "3.11.13"
  }
 },
 "nbformat": 4,
 "nbformat_minor": 5
}
