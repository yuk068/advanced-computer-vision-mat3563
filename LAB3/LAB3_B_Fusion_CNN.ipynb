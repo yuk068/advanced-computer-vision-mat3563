{
 "cells": [
  {
   "cell_type": "code",
   "execution_count": null,
   "id": "17455b58-2c6d-428d-88af-2780eed4d9c8",
   "metadata": {},
   "outputs": [],
   "source": []
  }
 ],
 "metadata": {
  "kernelspec": {
   "display_name": "Python 3.10 (acv_tf)",
   "language": "python",
   "name": "acv_tf"
  },
  "language_info": {
   "codemirror_mode": {
    "name": "ipython",
    "version": 3
   },
   "file_extension": ".py",
   "mimetype": "text/x-python",
   "name": "python",
   "nbconvert_exporter": "python",
   "pygments_lexer": "ipython3",
   "version": "3.10.18"
  }
 },
 "nbformat": 4,
 "nbformat_minor": 5
}
