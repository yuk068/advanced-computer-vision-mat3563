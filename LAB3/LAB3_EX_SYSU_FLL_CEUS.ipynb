{
 "cells": [
  {
   "cell_type": "markdown",
   "id": "98eb5b63-7579-4075-90d5-14e2c10b78b3",
   "metadata": {},
   "source": [
    "## LAB3 EX: SYSU CEUS FLL Dataset\n",
    "\n",
    "### Approach 1: 3D CNN (InceptioNet-style 5x5 convs)"
   ]
  },
  {
   "cell_type": "code",
   "execution_count": null,
   "id": "ea254162-5ef5-49bd-ab3f-07ea89276256",
   "metadata": {},
   "outputs": [],
   "source": []
  }
 ],
 "metadata": {
  "kernelspec": {
   "display_name": "Python 3.10 (acv_tf)",
   "language": "python",
   "name": "acv_tf"
  },
  "language_info": {
   "codemirror_mode": {
    "name": "ipython",
    "version": 3
   },
   "file_extension": ".py",
   "mimetype": "text/x-python",
   "name": "python",
   "nbconvert_exporter": "python",
   "pygments_lexer": "ipython3",
   "version": "3.10.18"
  }
 },
 "nbformat": 4,
 "nbformat_minor": 5
}
