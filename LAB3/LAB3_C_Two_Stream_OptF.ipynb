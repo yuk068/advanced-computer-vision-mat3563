{
 "cells": [
  {
   "cell_type": "markdown",
   "id": "c9e9bb58-0138-48a8-8e10-7163f65cf913",
   "metadata": {},
   "source": [
    "## LAB3 C: Two Stream - 2D CNN and Optical Flow\n",
    "\n",
    "### Proceedure:"
   ]
  },
  {
   "cell_type": "code",
   "execution_count": null,
   "id": "e9c0847a-f191-4d26-8f41-c8cbedc6a6c3",
   "metadata": {},
   "outputs": [],
   "source": []
  }
 ],
 "metadata": {
  "kernelspec": {
   "display_name": "Python 3.11 (acv_torch)",
   "language": "python",
   "name": "acv_torch"
  },
  "language_info": {
   "codemirror_mode": {
    "name": "ipython",
    "version": 3
   },
   "file_extension": ".py",
   "mimetype": "text/x-python",
   "name": "python",
   "nbconvert_exporter": "python",
   "pygments_lexer": "ipython3",
   "version": "3.11.13"
  }
 },
 "nbformat": 4,
 "nbformat_minor": 5
}
