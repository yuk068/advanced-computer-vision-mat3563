{
 "cells": [
  {
   "cell_type": "markdown",
   "id": "880a4520-5b99-4902-8658-6b782215d481",
   "metadata": {},
   "source": [
    "## LAB 2.2 A1: Testing Pretrained-CNNs\n",
    "\n",
    "### Proceedure:\n",
    "\n",
    "- Using Dogs-Cats-Pandas\n",
    "- Test and time **Xception**\n",
    "- Test and time **MobileNet**\n",
    "- Test and time **EfficientNetB0**\n",
    "- Compare all with previous custom CNN"
   ]
  },
  {
   "cell_type": "code",
   "execution_count": 11,
   "id": "3d383f77-5727-4e82-b8a7-ed5012805be0",
   "metadata": {},
   "outputs": [
    {
     "name": "stdout",
     "output_type": "stream",
     "text": [
      "Found 3000 files belonging to 3 classes.\n",
      "Using 2400 files for training.\n",
      "Found 3000 files belonging to 3 classes.\n",
      "Using 600 files for validation.\n"
     ]
    }
   ],
   "source": [
    "import tensorflow as tf, time, numpy as np\n",
    "from tensorflow.keras.preprocessing import image_dataset_from_directory\n",
    "\n",
    "train_ds = image_dataset_from_directory(\n",
    "    \"data/dogs_cats_pandas/animals\",\n",
    "    validation_split=0.2,\n",
    "    subset=\"training\",\n",
    "    seed=123,\n",
    "    image_size=(224, 224),\n",
    "    batch_size=32\n",
    ")\n",
    "\n",
    "val_ds = image_dataset_from_directory(\n",
    "    \"data/dogs_cats_pandas/animals\",\n",
    "    validation_split=0.2,\n",
    "    subset=\"validation\",\n",
    "    seed=123,\n",
    "    image_size=(224, 224),\n",
    "    batch_size=32\n",
    ")\n",
    "\n",
    "train_ds = train_ds.prefetch(buffer_size=tf.data.AUTOTUNE)\n",
    "val_ds = val_ds.prefetch(buffer_size=tf.data.AUTOTUNE)\n",
    "num_classes = 3\n",
    "\n",
    "sample_batch = next(iter(val_ds))[0][:32]"
   ]
  },
  {
   "cell_type": "code",
   "execution_count": 12,
   "id": "f0f55e30-5230-4969-81b2-fcc2ce1292e9",
   "metadata": {},
   "outputs": [
    {
     "name": "stdout",
     "output_type": "stream",
     "text": [
      "Xception Accuracy: 0.5883333086967468\n",
      "Load time: 1.1828858852386475\n",
      "Avg predict time: 0.0162665918469429\n"
     ]
    }
   ],
   "source": [
    "t0 = time.time()\n",
    "base = tf.keras.applications.Xception(weights=\"imagenet\", include_top=False, input_shape=(224,224,3))\n",
    "base.trainable = False\n",
    "model = tf.keras.Sequential([\n",
    "    base,\n",
    "    tf.keras.layers.GlobalAveragePooling2D(),\n",
    "    tf.keras.layers.Dense(num_classes, activation=\"softmax\")\n",
    "])\n",
    "model.compile(optimizer=\"adam\", loss=\"sparse_categorical_crossentropy\", metrics=[\"accuracy\"])\n",
    "load_time = time.time()-t0\n",
    "history = model.fit(train_ds, validation_data=val_ds, epochs=3, verbose=0)\n",
    "t0 = time.time()\n",
    "_ = model.predict(sample_batch, verbose=0)\n",
    "pred_time = (time.time()-t0)/len(sample_batch)\n",
    "print(\"Xception Accuracy:\", history.history[\"val_accuracy\"][-1])\n",
    "print(\"Load time:\", load_time)\n",
    "print(\"Avg predict time:\", pred_time)"
   ]
  },
  {
   "cell_type": "code",
   "execution_count": 13,
   "id": "f1479191-5c1c-41a9-88c0-6ed998ed8b16",
   "metadata": {},
   "outputs": [
    {
     "name": "stdout",
     "output_type": "stream",
     "text": [
      "MobileNet Accuracy: 0.7366666793823242\n",
      "Load time: 0.4708428382873535\n",
      "Avg predict time: 0.008874975144863129\n"
     ]
    }
   ],
   "source": [
    "t0 = time.time()\n",
    "base = tf.keras.applications.MobileNet(weights=\"imagenet\", include_top=False, input_shape=(224,224,3))\n",
    "base.trainable = False\n",
    "model = tf.keras.Sequential([\n",
    "    base,\n",
    "    tf.keras.layers.GlobalAveragePooling2D(),\n",
    "    tf.keras.layers.Dense(num_classes, activation=\"softmax\")\n",
    "])\n",
    "model.compile(optimizer=\"adam\", loss=\"sparse_categorical_crossentropy\", metrics=[\"accuracy\"])\n",
    "load_time = time.time()-t0\n",
    "history = model.fit(train_ds, validation_data=val_ds, epochs=3, verbose=0)\n",
    "t0 = time.time()\n",
    "_ = model.predict(sample_batch, verbose=0)\n",
    "pred_time = (time.time()-t0)/len(sample_batch)\n",
    "print(\"MobileNet Accuracy:\", history.history[\"val_accuracy\"][-1])\n",
    "print(\"Load time:\", load_time)\n",
    "print(\"Avg predict time:\", pred_time)"
   ]
  },
  {
   "cell_type": "code",
   "execution_count": 14,
   "id": "ccd0191d-9532-410f-9fd9-13e8d80b7d72",
   "metadata": {},
   "outputs": [
    {
     "name": "stdout",
     "output_type": "stream",
     "text": [
      "EfficientNetB0 Accuracy: 0.996666669845581\n",
      "Load time: 1.5929367542266846\n",
      "Avg predict time: 0.02901402860879898\n"
     ]
    }
   ],
   "source": [
    "# cell 4 EfficientNetB0\n",
    "t0 = time.time()\n",
    "base = tf.keras.applications.EfficientNetB0(weights=\"imagenet\", include_top=False, input_shape=(224,224,3))\n",
    "base.trainable = False\n",
    "model = tf.keras.Sequential([\n",
    "    base,\n",
    "    tf.keras.layers.GlobalAveragePooling2D(),\n",
    "    tf.keras.layers.Dense(num_classes, activation=\"softmax\")\n",
    "])\n",
    "model.compile(optimizer=\"adam\", loss=\"sparse_categorical_crossentropy\", metrics=[\"accuracy\"])\n",
    "load_time = time.time()-t0\n",
    "history = model.fit(train_ds, validation_data=val_ds, epochs=3, verbose=0)\n",
    "t0 = time.time()\n",
    "_ = model.predict(sample_batch, verbose=0)\n",
    "pred_time = (time.time()-t0)/len(sample_batch)\n",
    "print(\"EfficientNetB0 Accuracy:\", history.history[\"val_accuracy\"][-1])\n",
    "print(\"Load time:\", load_time)\n",
    "print(\"Avg predict time:\", pred_time)\n"
   ]
  },
  {
   "cell_type": "markdown",
   "id": "01c0d347-19ec-432f-8815-454c5786ec63",
   "metadata": {},
   "source": [
    "### Comparison of CNNs on Dogs-Cats-Pandas\n",
    "\n",
    "| | **Xception** | **MobileNet** | **EfficientNetB0** | **Custom CNN from LAB2_1_B** |\n",
    "|---|---|---|---|---|\n",
    "| Accuracy | 0.60 | 0.73 | 0.99 | 0.73 |\n",
    "| Load time (s) | 1.18 | 0.47 | 1.59 | - |\n",
    "| Avg. Time to Predict (s) | 0.016 | 0.008 | 0.029 | - |"
   ]
  }
 ],
 "metadata": {
  "kernelspec": {
   "display_name": "Python 3.10 (acv_tf)",
   "language": "python",
   "name": "acv_tf"
  },
  "language_info": {
   "codemirror_mode": {
    "name": "ipython",
    "version": 3
   },
   "file_extension": ".py",
   "mimetype": "text/x-python",
   "name": "python",
   "nbconvert_exporter": "python",
   "pygments_lexer": "ipython3",
   "version": "3.10.18"
  }
 },
 "nbformat": 4,
 "nbformat_minor": 5
}
