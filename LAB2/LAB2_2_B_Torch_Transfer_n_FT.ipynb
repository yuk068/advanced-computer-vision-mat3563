{
 "cells": [
  {
   "cell_type": "markdown",
   "id": "2c0fc05f-6173-4146-85e6-96a8e51beefa",
   "metadata": {},
   "source": [
    "## LAB 2.2 A2: Transfer Learning & Finetuning with Pytorch"
   ]
  },
  {
   "cell_type": "code",
   "execution_count": 1,
   "id": "4b5e3a67-e430-4a83-98c3-0ae8e48c8aef",
   "metadata": {},
   "outputs": [],
   "source": [
    "import torch\n",
    "import torch.nn as nn\n",
    "import torch.optim as optim\n",
    "from torch.utils.data import DataLoader, random_split\n",
    "from torchvision import datasets, transforms, models\n",
    "import matplotlib.pyplot as plt\n",
    "import warnings\n",
    "\n",
    "warnings.filterwarnings(\"ignore\")\n",
    "\n",
    "device = torch.device(\"cuda\" if torch.cuda.is_available() else \"cpu\")\n",
    "\n",
    "data_dir = \"data/dogs_cats_pandas/animals\"\n",
    "img_size = 224\n",
    "batch_size = 64\n",
    "\n",
    "transform = transforms.Compose([\n",
    "    transforms.Resize((img_size, img_size)),\n",
    "    transforms.RandomHorizontalFlip(),\n",
    "    transforms.RandomRotation(10),\n",
    "    transforms.ToTensor(),\n",
    "    transforms.Normalize([0.485, 0.456, 0.406],[0.229, 0.224, 0.225]),\n",
    "])\n",
    "\n",
    "dataset = datasets.ImageFolder(data_dir, transform=transform)\n",
    "num_classes = len(dataset.classes)\n",
    "train_size = int(0.8 * len(dataset))\n",
    "val_size = int(0.1 * len(dataset))\n",
    "test_size = len(dataset) - train_size - val_size\n",
    "train_ds, val_ds, test_ds = random_split(dataset, [train_size, val_size, test_size])\n",
    "\n",
    "train_loader = DataLoader(train_ds, batch_size=batch_size, shuffle=True, num_workers=2)\n",
    "val_loader = DataLoader(val_ds, batch_size=batch_size, shuffle=False, num_workers=2)\n",
    "test_loader = DataLoader(test_ds, batch_size=batch_size, shuffle=False, num_workers=2)"
   ]
  },
  {
   "cell_type": "code",
   "execution_count": 2,
   "id": "40dd9833-ab7e-4679-a06a-8d9ae1921768",
   "metadata": {},
   "outputs": [],
   "source": [
    "def train_model(model, criterion, optimizer, epochs=3):\n",
    "    model.to(device)\n",
    "    for epoch in range(epochs):\n",
    "        model.train()\n",
    "        for images, labels in train_loader:\n",
    "            images, labels = images.to(device), labels.to(device)\n",
    "            optimizer.zero_grad()\n",
    "            outputs = model(images)\n",
    "            loss = criterion(outputs, labels)\n",
    "            loss.backward()\n",
    "            optimizer.step()\n",
    "    model.eval()\n",
    "    correct, total = 0, 0\n",
    "    with torch.no_grad():\n",
    "        for images, labels in val_loader:\n",
    "            images, labels = images.to(device), labels.to(device)\n",
    "            outputs = model(images)\n",
    "            _, preds = torch.max(outputs, 1)\n",
    "            total += labels.size(0)\n",
    "            correct += (preds == labels).sum().item()\n",
    "    return correct / total\n",
    "\n",
    "def get_model():\n",
    "    model = models.efficientnet_b0(pretrained=True)\n",
    "    for param in model.parameters():\n",
    "        param.requires_grad = False\n",
    "    model.classifier[1] = nn.Linear(model.classifier[1].in_features, num_classes)\n",
    "    return model\n",
    "\n",
    "results = {}"
   ]
  },
  {
   "cell_type": "code",
   "execution_count": 3,
   "id": "00a2ae28-eceb-4504-8147-0e2af520dcd8",
   "metadata": {},
   "outputs": [
    {
     "name": "stdout",
     "output_type": "stream",
     "text": [
      "Validation accuracies:\n",
      "run1 0.9633333333333334\n",
      "run2 0.9533333333333334\n",
      "run3 0.9266666666666666\n",
      "run4 0.9566666666666667\n",
      "run5 0.98\n"
     ]
    }
   ],
   "source": [
    "# Run 1: train only classifier, Adam lr=1e-3\n",
    "m1 = get_model()\n",
    "opt1 = optim.Adam(m1.classifier.parameters(), lr=1e-3)\n",
    "results[\"run1\"] = train_model(m1, nn.CrossEntropyLoss(), opt1, epochs=3)\n",
    "\n",
    "# Run 2: unfreeze last block, Adam lr=1e-4\n",
    "m2 = get_model()\n",
    "for param in list(m2.features[-1].parameters()):\n",
    "    param.requires_grad = True\n",
    "opt2 = optim.Adam(filter(lambda p: p.requires_grad, m2.parameters()), lr=1e-4)\n",
    "results[\"run2\"] = train_model(m2, nn.CrossEntropyLoss(), opt2, epochs=3)\n",
    "\n",
    "# Run 3: train all layers, Adam lr=1e-5\n",
    "m3 = get_model()\n",
    "for param in m3.parameters():\n",
    "    param.requires_grad = True\n",
    "opt3 = optim.Adam(m3.parameters(), lr=1e-5)\n",
    "results[\"run3\"] = train_model(m3, nn.CrossEntropyLoss(), opt3, epochs=3)\n",
    "\n",
    "# Run 4: classifier only, SGD lr=0.01\n",
    "m4 = get_model()\n",
    "opt4 = optim.SGD(m4.classifier.parameters(), lr=0.01, momentum=0.9)\n",
    "results[\"run4\"] = train_model(m4, nn.CrossEntropyLoss(), opt4, epochs=3)\n",
    "\n",
    "# Run 5: unfreeze half, AdamW lr=1e-4\n",
    "m5 = get_model()\n",
    "for param in list(m5.features[-3:].parameters()):\n",
    "    param.requires_grad = True\n",
    "opt5 = optim.AdamW(filter(lambda p: p.requires_grad, m5.parameters()), lr=1e-4)\n",
    "results[\"run5\"] = train_model(m5, nn.CrossEntropyLoss(), opt5, epochs=3)\n",
    "\n",
    "print(\"Validation accuracies:\")\n",
    "for k,v in results.items():\n",
    "    print(k, v)"
   ]
  },
  {
   "cell_type": "markdown",
   "id": "20981449-1199-4d4c-a55b-b153ed4efd84",
   "metadata": {},
   "source": [
    "| Run   | Accuracy |\n",
    "|-------|----------|\n",
    "| Run 1 | 0.9633   |\n",
    "| Run 2 | 0.9533   |\n",
    "| Run 3 | 0.9267   |\n",
    "| Run 4 | 0.9567   |\n",
    "| Run 5 | 0.9800   |"
   ]
  }
 ],
 "metadata": {
  "kernelspec": {
   "display_name": "Python 3.11 (acv_torch)",
   "language": "python",
   "name": "acv_torch"
  },
  "language_info": {
   "codemirror_mode": {
    "name": "ipython",
    "version": 3
   },
   "file_extension": ".py",
   "mimetype": "text/x-python",
   "name": "python",
   "nbconvert_exporter": "python",
   "pygments_lexer": "ipython3",
   "version": "3.11.13"
  }
 },
 "nbformat": 4,
 "nbformat_minor": 5
}
