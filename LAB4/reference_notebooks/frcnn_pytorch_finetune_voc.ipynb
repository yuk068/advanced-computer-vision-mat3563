{
 "cells": [
  {
   "cell_type": "markdown",
   "id": "4a3dfb88",
   "metadata": {},
   "source": [
    "\n",
    "# Faster R-CNN Fine-Tuning on VOC-style Annotations (PyTorch)\n",
    "\n",
    "This notebook provides an **end-to-end pipeline**:\n",
    "- Load VOC-style data (JPEGImages/ + Annotations/*.xml + ImageSets/Main/train/val.txt).\n",
    "- Build and modify Faster R-CNN head for your classes.\n",
    "- Train, validate (loss-based), and save weights.\n",
    "- Run inference and visualize detections.\n"
   ]
  },
  {
   "cell_type": "code",
   "execution_count": null,
   "id": "acd7fccb",
   "metadata": {},
   "outputs": [],
   "source": [
    "\n",
    "from pathlib import Path\n",
    "import os, xml.etree.ElementTree as ET\n",
    "import torch, torchvision\n",
    "from torch.utils.data import Dataset, DataLoader\n",
    "from PIL import Image, ImageDraw, ImageFont\n",
    "import matplotlib.pyplot as plt\n",
    "\n",
    "# ==== User config ====\n",
    "DATA_ROOT = Path(\"dataset\")           # VOC-style root\n",
    "CLASSES   = [\"person\",\"car\",\"dog\"]    # change to your classes\n",
    "BATCH_SIZE = 2\n",
    "NUM_EPOCHS = 10\n",
    "LR = 0.005\n",
    "OUTPUT_DIR = Path(\"outputs\")\n",
    "OUTPUT_DIR.mkdir(parents=True, exist_ok=True)\n",
    "DEVICE = torch.device(\"cuda\" if torch.cuda.is_available() else \"cpu\")\n",
    "# ==== End config ====\n"
   ]
  },
  {
   "cell_type": "markdown",
   "id": "9bacbdce",
   "metadata": {},
   "source": [
    "## Dataset (VOC XML)"
   ]
  },
  {
   "cell_type": "code",
   "execution_count": null,
   "id": "1b32e3ca",
   "metadata": {},
   "outputs": [],
   "source": [
    "\n",
    "class VOCDataset(Dataset):\n",
    "    def __init__(self, root: Path, image_set=\"train\", classes=None, transforms=None):\n",
    "        self.root = root\n",
    "        self.transforms = transforms\n",
    "        self.img_dir = root/\"JPEGImages\"\n",
    "        self.ann_dir = root/\"Annotations\"\n",
    "        ids_file = root/\"ImageSets\"/\"Main\"/f\"{image_set}.txt\"\n",
    "        with open(ids_file) as f:\n",
    "            self.ids = [x.strip() for x in f.readlines() if x.strip()]\n",
    "        self.class_to_idx = {c:i+1 for i,c in enumerate(classes)} if classes else None\n",
    "\n",
    "    def __len__(self): return len(self.ids)\n",
    "\n",
    "    def _parse_xml(self, xml_path: Path):\n",
    "        tree = ET.parse(xml_path)\n",
    "        root = tree.getroot()\n",
    "        boxes, labels = [], []\n",
    "        for obj in root.findall(\"object\"):\n",
    "            name = obj.find(\"name\").text\n",
    "            bnd = obj.find(\"bndbox\")\n",
    "            x1 = float(bnd.find(\"xmin\").text)\n",
    "            y1 = float(bnd.find(\"ymin\").text)\n",
    "            x2 = float(bnd.find(\"xmax\").text)\n",
    "            y2 = float(bnd.find(\"ymax\").text)\n",
    "            boxes.append([x1,y1,x2,y2])\n",
    "            labels.append(self.class_to_idx.get(name, 1) if self.class_to_idx else 1)\n",
    "        return boxes, labels\n",
    "\n",
    "    def __getitem__(self, i):\n",
    "        img_id = self.ids[i]\n",
    "        img_path = self.img_dir/f\"{img_id}.jpg\"\n",
    "        ann_path = self.ann_dir/f\"{img_id}.xml\"\n",
    "        img = Image.open(img_path).convert(\"RGB\")\n",
    "        boxes, labels = self._parse_xml(ann_path)\n",
    "        import torch\n",
    "        boxes = torch.as_tensor(boxes, dtype=torch.float32)\n",
    "        labels = torch.as_tensor(labels, dtype=torch.int64)\n",
    "        target = {\"boxes\": boxes, \"labels\": labels, \"image_id\": torch.tensor([i])}\n",
    "        if self.transforms:\n",
    "            img = self.transforms(img)\n",
    "        else:\n",
    "            img = torchvision.transforms.ToTensor()(img)\n",
    "        return img, target\n",
    "\n",
    "def collate_fn(batch):\n",
    "    return tuple(zip(*batch))\n"
   ]
  },
  {
   "cell_type": "code",
   "execution_count": null,
   "id": "9a9b1aed",
   "metadata": {},
   "outputs": [],
   "source": [
    "\n",
    "train_set = VOCDataset(DATA_ROOT, \"train\", classes=CLASSES)\n",
    "val_set   = VOCDataset(DATA_ROOT, \"val\",   classes=CLASSES)\n",
    "\n",
    "train_loader = DataLoader(train_set, batch_size=BATCH_SIZE, shuffle=True, collate_fn=collate_fn)\n",
    "val_loader   = DataLoader(val_set,   batch_size=BATCH_SIZE, shuffle=False, collate_fn=collate_fn)\n",
    "len(train_set), len(val_set)\n"
   ]
  },
  {
   "cell_type": "markdown",
   "id": "f699d56b",
   "metadata": {},
   "source": [
    "## Model: Faster R-CNN + FPN (modify head)"
   ]
  },
  {
   "cell_type": "code",
   "execution_count": null,
   "id": "b437ea88",
   "metadata": {},
   "outputs": [],
   "source": [
    "\n",
    "model = torchvision.models.detection.fasterrcnn_resnet50_fpn_v2(weights=\"DEFAULT\")\n",
    "# Replace head\n",
    "in_features = model.roi_heads.box_predictor.cls_score.in_features\n",
    "model.roi_heads.box_predictor = torchvision.models.detection.faster_rcnn.FastRCNNPredictor(in_features, len(CLASSES)+1)\n",
    "model = model.to(DEVICE)\n",
    "\n",
    "# (Optional) freeze backbone for warmup\n",
    "for name,p in model.backbone.body.named_parameters():\n",
    "    p.requires_grad = True  # set False to freeze for first few epochs\n"
   ]
  },
  {
   "cell_type": "markdown",
   "id": "7ceebc77",
   "metadata": {},
   "source": [
    "## Train"
   ]
  },
  {
   "cell_type": "code",
   "execution_count": null,
   "id": "a897a7fe",
   "metadata": {},
   "outputs": [],
   "source": [
    "\n",
    "params = [p for p in model.parameters() if p.requires_grad]\n",
    "optimizer = torch.optim.SGD(params, lr=LR, momentum=0.9, weight_decay=1e-4)\n",
    "lr_sched = torch.optim.lr_scheduler.StepLR(optimizer, step_size=5, gamma=0.1)\n",
    "\n",
    "def to_device(batch):\n",
    "    imgs, tgts = batch\n",
    "    imgs = [im.to(DEVICE) for im in imgs]\n",
    "    tgts = [{k:v.to(DEVICE) for k,v in t.items()} for t in tgts]\n",
    "    return imgs, tgts\n",
    "\n",
    "for epoch in range(NUM_EPOCHS):\n",
    "    model.train()\n",
    "    total_loss = 0.0\n",
    "    for batch in train_loader:\n",
    "        imgs, tgts = to_device(batch)\n",
    "        loss_dict = model(imgs, tgts)\n",
    "        loss = sum(loss_dict.values())\n",
    "        optimizer.zero_grad()\n",
    "        loss.backward()\n",
    "        optimizer.step()\n",
    "        total_loss += loss.item()\n",
    "    lr_sched.step()\n",
    "\n",
    "    # simple val loss\n",
    "    model.train()\n",
    "    val_loss = 0.0\n",
    "    with torch.no_grad():\n",
    "        for batch in val_loader:\n",
    "            imgs, tgts = to_device(batch)\n",
    "            ld = model(imgs, tgts)\n",
    "            val_loss += sum(ld.values()).item()\n",
    "\n",
    "    print(f\"Epoch {epoch+1}/{NUM_EPOCHS} | train_loss={total_loss:.3f} | val_loss={val_loss:.3f}\")\n",
    "\n",
    "torch.save(model.state_dict(), OUTPUT_DIR/\"frcnn_voc.pt\")\n",
    "print(\"Saved:\", OUTPUT_DIR/\"frcnn_voc.pt\")\n"
   ]
  },
  {
   "cell_type": "markdown",
   "id": "5cde1b9a",
   "metadata": {},
   "source": [
    "## Inference & Visualization"
   ]
  },
  {
   "cell_type": "code",
   "execution_count": null,
   "id": "b9aa3f0f",
   "metadata": {},
   "outputs": [],
   "source": [
    "\n",
    "# Pick one image id from val set file\n",
    "val_ids = (DATA_ROOT/\"ImageSets\"/\"Main\"/\"val.txt\").read_text().strip().splitlines()\n",
    "if len(val_ids) == 0:\n",
    "    print(\"No val ids. Please populate ImageSets/Main/val.txt\")\n",
    "else:\n",
    "    sample_id = val_ids[0]\n",
    "    img_path = DATA_ROOT/\"JPEGImages\"/f\"{sample_id}.jpg\"\n",
    "    img = Image.open(img_path).convert(\"RGB\")\n",
    "    tensor = torchvision.transforms.ToTensor()(img).to(DEVICE)\n",
    "    model.eval()\n",
    "    with torch.no_grad():\n",
    "        out = model([tensor])[0]\n",
    "\n",
    "    draw = img.copy()\n",
    "    d = ImageDraw.Draw(draw)\n",
    "    boxes = out[\"boxes\"].detach().cpu().numpy()\n",
    "    labels = out[\"labels\"].detach().cpu().numpy()\n",
    "    scores = out[\"scores\"].detach().cpu().numpy()\n",
    "\n",
    "    for b,l,s in zip(boxes, labels, scores):\n",
    "        if s < 0.5: \n",
    "            continue\n",
    "        x1,y1,x2,y2 = b\n",
    "        d.rectangle([x1,y1,x2,y2], outline=1, width=3)  # outline=1 uses default color\n",
    "        name = CLASSES[l-1] if 1 <= l <= len(CLASSES) else str(l)\n",
    "        d.text((x1,y1), f\"{name}:{s:.2f}\")\n",
    "    display(draw)\n"
   ]
  }
 ],
 "metadata": {
  "kernelspec": {
   "display_name": "Python 3 (ipykernel)",
   "language": "python",
   "name": "python3"
  },
  "language_info": {
   "codemirror_mode": {
    "name": "ipython",
    "version": 3
   },
   "file_extension": ".py",
   "mimetype": "text/x-python",
   "name": "python",
   "nbconvert_exporter": "python",
   "pygments_lexer": "ipython3",
   "version": "3.13.2"
  }
 },
 "nbformat": 4,
 "nbformat_minor": 5
}
