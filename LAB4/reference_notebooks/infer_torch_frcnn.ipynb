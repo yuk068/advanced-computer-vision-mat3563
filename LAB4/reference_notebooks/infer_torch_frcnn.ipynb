{
 "cells": [
  {
   "cell_type": "code",
   "execution_count": 7,
   "id": "bbe9b1fb-e6df-4bcf-8106-ff2236c257e1",
   "metadata": {},
   "outputs": [],
   "source": [
    "OBJECT_NAMES  = ['__background__', 'person', 'bicycle', 'car', 'motorcycle', 'airplane', 'bus', 'train', 'truck', \n",
    "                 'boat', 'traffic light', 'fire hydrant', 'N/A', 'stop sign', 'parking meter', 'bench', 'bird', \n",
    "                 'cat', 'dog', 'horse', 'sheep', 'cow', 'elephant', 'bear', 'zebra', 'giraffe', 'N/A', 'backpack', \n",
    "                 'umbrella', 'N/A', 'N/A', 'handbag', 'tie', 'suitcase', 'frisbee', 'skis', 'snowboard', 'sports ball', \n",
    "                 'kite', 'baseball bat', 'baseball glove', 'skateboard', 'surfboard', 'tennis racket', 'bottle', 'N/A', \n",
    "                 'wine glass', 'cup', 'fork', 'knife', 'spoon', 'bowl', 'banana', 'apple', 'sandwich', 'orange', 'broccoli', \n",
    "                 'carrot', 'hot dog', 'pizza', 'donut', 'cake', 'chair', 'couch', 'potted plant', 'bed', 'N/A', 'dining table', \n",
    "                 'N/A', 'N/A', 'toilet', 'N/A', 'tv', 'laptop', 'mouse', 'remote', 'keyboard', 'cellone', 'microwave', 'oven', \n",
    "                 'toaster', 'sink', 'refrigerator', 'N/A', 'book', 'clock', 'vase', 'scissors', 'teddy bear', 'hair drier', \n",
    "                 'toothbrush']"
   ]
  },
  {
   "cell_type": "code",
   "execution_count": 12,
   "id": "40129b1e-ae24-4153-8b94-7da46a9cd412",
   "metadata": {},
   "outputs": [],
   "source": [
    "# notebooks/infer_torch_frcnn.ipynb (dùng như script .py cũng được)\n",
    "import torch, torchvision\n",
    "from PIL import Image, ImageDraw, ImageFont\n",
    "import numpy as np\n",
    "import os\n",
    "\n",
    "# Load a font (replace with your font file path)\n",
    "try:\n",
    "    font = ImageFont.truetype(\"arial.ttf\", 15)\n",
    "except IOError:\n",
    "    font = ImageFont.load_default()\n",
    "\n",
    "device = torch.device(\"cuda\" if torch.cuda.is_available() else \"cpu\")\n",
    "model = torchvision.models.detection.fasterrcnn_resnet50_fpn_v2(weights=\"DEFAULT\").to(device).eval()\n",
    "\n",
    "transform = torchvision.transforms.Compose([\n",
    "    torchvision.transforms.ToTensor()\n",
    "])\n",
    "\n",
    "img_path = \"D:/Teach_n_Train/Advanced_Lessons_CV/LABS/r-cnn/faster-rcnn/traffic.jpg\"\n",
    "filename = os.path.basename(img_path)\n",
    "\n",
    "img = Image.open(img_path).convert(\"RGB\")\n",
    "x = transform(img).to(device)\n",
    "with torch.no_grad():\n",
    "    out = model([x])[0]  # dict: boxes, labels, scores\n",
    "\n",
    "boxes = out[\"boxes\"].cpu().numpy()\n",
    "labels = out[\"labels\"].cpu().numpy()\n",
    "scores = out[\"scores\"].cpu().numpy()\n",
    "\n",
    "draw = img.copy()\n",
    "d = ImageDraw.Draw(draw)\n",
    "for b,l,s in zip(boxes, labels, scores):\n",
    "    if s < 0.5: continue\n",
    "    x1,y1,x2,y2 = b\n",
    "    d.rectangle([x1,y1,x2,y2], outline=(255,0,0), width=3)\n",
    "    d.text((x1,y1), f\"{OBJECT_NAMES[int(l)]}:{s:.2f}\", font = font, fill=(255,255,0))\n",
    "\n",
    "output_path = \"D:/Teach_n_Train/Advanced_Lessons_CV/LABS/Object_Detection/Lab04/outputs\"\n",
    "os.makedirs(output_path, exist_ok=True)\n",
    "\n",
    "draw.save(output_path + \"/torch_infer_\" + filename)\n"
   ]
  },
  {
   "cell_type": "code",
   "execution_count": null,
   "id": "ec744fea-53d9-43f4-944e-575bc79f04ed",
   "metadata": {},
   "outputs": [],
   "source": []
  }
 ],
 "metadata": {
  "kernelspec": {
   "display_name": "Python 3 (ipykernel)",
   "language": "python",
   "name": "python3"
  },
  "language_info": {
   "codemirror_mode": {
    "name": "ipython",
    "version": 3
   },
   "file_extension": ".py",
   "mimetype": "text/x-python",
   "name": "python",
   "nbconvert_exporter": "python",
   "pygments_lexer": "ipython3",
   "version": "3.13.2"
  }
 },
 "nbformat": 4,
 "nbformat_minor": 5
}
